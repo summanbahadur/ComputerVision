{
 "cells": [
  {
   "cell_type": "markdown",
   "id": "f41aff60",
   "metadata": {},
   "source": [
    "**Image Transformations**"
   ]
  },
  {
   "cell_type": "code",
   "execution_count": 32,
   "id": "6283c202",
   "metadata": {},
   "outputs": [],
   "source": [
    "from PIL import Image\n",
    "#from pylab import array, imshow, show, plot, title, subplot\n",
    "from numpy import mat, zeros\n",
    "from matplotlib.pyplot import imshow, show, plot, title, subplot"
   ]
  },
  {
   "cell_type": "markdown",
   "id": "9043e219",
   "metadata": {},
   "source": [
    "**SCALING**"
   ]
  },
  {
   "cell_type": "code",
   "execution_count": 93,
   "id": "0318bac1",
   "metadata": {},
   "outputs": [],
   "source": [
    "img1 = Image.open('./square.png').convert('L')"
   ]
  },
  {
   "cell_type": "code",
   "execution_count": 94,
   "id": "e26e87fe",
   "metadata": {},
   "outputs": [],
   "source": [
    "image1 = mat(img1)"
   ]
  },
  {
   "cell_type": "code",
   "execution_count": 95,
   "id": "5f0507da",
   "metadata": {},
   "outputs": [],
   "source": [
    "rows = image1.shape[0]\n",
    "cols = image1.shape[1]"
   ]
  },
  {
   "cell_type": "code",
   "execution_count": 96,
   "id": "5e4e17ec",
   "metadata": {},
   "outputs": [],
   "source": [
    "scaleMatrix = [[.75,0],[0,1.5]]"
   ]
  },
  {
   "cell_type": "code",
   "execution_count": 97,
   "id": "19176d89",
   "metadata": {},
   "outputs": [],
   "source": [
    "tp = scaleMatrix * mat([[rows],[cols]])"
   ]
  },
  {
   "cell_type": "code",
   "execution_count": 98,
   "id": "2118a95c",
   "metadata": {},
   "outputs": [],
   "source": [
    "rowsd = int(tp[0])+1\n",
    "colsd = int(tp[1])+1"
   ]
  },
  {
   "cell_type": "code",
   "execution_count": 99,
   "id": "3ba41f8c",
   "metadata": {},
   "outputs": [],
   "source": [
    "image2 = mat(zeros([rowsd, colsd]))"
   ]
  },
  {
   "cell_type": "code",
   "execution_count": 100,
   "id": "6ae6c267",
   "metadata": {},
   "outputs": [],
   "source": [
    "r = 0\n",
    "while r < rows:\n",
    "    c = 0 \n",
    "    while c < cols:\n",
    "        tp = scaleMatrix * mat([[r],[c]])\n",
    "        rd = int(tp[0])\n",
    "        cd = int(tp[1])\n",
    "        image2[rd, cd] = image1[r,c]\n",
    "        c = c + 1\n",
    "    r = r + 1"
   ]
  },
  {
   "cell_type": "code",
   "execution_count": 101,
   "id": "98463f9c",
   "metadata": {},
   "outputs": [
    {
     "data": {
      "image/png": "[encoded data removed]",
      "text/plain": [
       "<Figure size 640x480 with 2 Axes>"
      ]
     },
     "metadata": {},
     "output_type": "display_data"
    }
   ],
   "source": [
    "subplot(1, 2, 1)\n",
    "imshow(image1, cmap='gray')\n",
    "subplot(1, 2, 2)\n",
    "imshow(image2, cmap='gray')\n",
    "show()\n"
   ]
  },
  {
   "cell_type": "code",
   "execution_count": null,
   "id": "63b9b6b0",
   "metadata": {},
   "outputs": [],
   "source": []
  }
 ],
 "metadata": {
  "kernelspec": {
   "display_name": "Python 3 (ipykernel)",
   "language": "python",
   "name": "python3"
  },
  "language_info": {
   "codemirror_mode": {
    "name": "ipython",
    "version": 3
   },
   "file_extension": ".py",
   "mimetype": "text/x-python",
   "name": "python",
   "nbconvert_exporter": "python",
   "pygments_lexer": "ipython3",
   "version": "3.8.16"
  }
 },
 "nbformat": 4,
 "nbformat_minor": 5
}
